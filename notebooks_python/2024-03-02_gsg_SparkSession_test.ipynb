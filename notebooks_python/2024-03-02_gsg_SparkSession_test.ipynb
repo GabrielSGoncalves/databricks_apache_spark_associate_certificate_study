{
 "cells": [
  {
   "cell_type": "markdown",
   "id": "10601253-9fbe-4f97-896f-0b2ad24373db",
   "metadata": {},
   "source": [
    "# Pyspark DataFrame Basics"
   ]
  },
  {
   "cell_type": "code",
   "execution_count": 1,
   "id": "be19929e-1877-4b59-82b4-bbb81c53782a",
   "metadata": {},
   "outputs": [],
   "source": [
    "from pyspark.sql import SparkSession"
   ]
  },
  {
   "cell_type": "code",
   "execution_count": 2,
   "id": "e71a12b1-8ad9-478c-9183-83fab571d3c8",
   "metadata": {},
   "outputs": [],
   "source": [
    "spark = SparkSession.builder \\\n",
    "    .appName(\"My Spark Application\") \\\n",
    "    .getOrCreate()"
   ]
  }
 ],
 "metadata": {
  "kernelspec": {
   "display_name": "Python 3 (ipykernel)",
   "language": "python",
   "name": "python3"
  },
  "language_info": {
   "codemirror_mode": {
    "name": "ipython",
    "version": 3
   },
   "file_extension": ".py",
   "mimetype": "text/x-python",
   "name": "python",
   "nbconvert_exporter": "python",
   "pygments_lexer": "ipython3",
   "version": "3.11.6"
  }
 },
 "nbformat": 4,
 "nbformat_minor": 5
}
